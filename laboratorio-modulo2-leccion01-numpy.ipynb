{
 "cells": [
  {
   "cell_type": "markdown",
   "id": "6db588db",
   "metadata": {},
   "source": [
    "<div style=\"text-align: center;\">\n",
    "  <img src=\"https://github.com/Hack-io-Data/Imagenes/blob/main/01-LogosHackio/logo_naranja@4x.png?raw=true\" alt=\"esquema\" />\n",
    "</div>"
   ]
  },
  {
   "cell_type": "markdown",
   "id": "11308d6c",
   "metadata": {},
   "source": [
    "\n",
    "# Laboratorio de NumPy"
   ]
  },
  {
   "cell_type": "markdown",
   "id": "a19d4596",
   "metadata": {},
   "source": [
    "#### Ejercicio 1 - Crea un array de 1D con los números del 0 al 9."
   ]
  },
  {
   "cell_type": "code",
   "execution_count": 1,
   "id": "9d4e1d42",
   "metadata": {},
   "outputs": [
    {
     "name": "stdout",
     "output_type": "stream",
     "text": [
      "[0 1 2 3 4 5 6 7 8 9]\n"
     ]
    }
   ],
   "source": [
    "import numpy as np\n",
    "\n",
    "array_1d = np.arange(10)\n",
    "print(array_1d)"
   ]
  },
  {
   "cell_type": "markdown",
   "id": "f4a41f16",
   "metadata": {},
   "source": [
    "#### Ejercicio 2 - Convierte un array 1D en un array 2D con 2 filas y 5 columnas."
   ]
  },
  {
   "cell_type": "code",
   "execution_count": 2,
   "id": "3d7cef3c",
   "metadata": {},
   "outputs": [
    {
     "name": "stdout",
     "output_type": "stream",
     "text": [
      "[[0 1 2 3 4]\n",
      " [5 6 7 8 9]]\n"
     ]
    }
   ],
   "source": [
    "array_2d = np.reshape(array_1d,(2,5))\n",
    "print(array_2d)"
   ]
  },
  {
   "cell_type": "markdown",
   "id": "86bb8999",
   "metadata": {},
   "source": [
    "#### Ejercicio 3 - Encuentra los índices de los elementos con valor distinto de 0 en el siguiente array: [0, 2, 0, 3, 0, 4, 0]."
   ]
  },
  {
   "cell_type": "code",
   "execution_count": 3,
   "id": "d1fcfca4",
   "metadata": {},
   "outputs": [
    {
     "name": "stdout",
     "output_type": "stream",
     "text": [
      "[2 3 4]\n"
     ]
    }
   ],
   "source": [
    "list=[0,2,0,3,0,4,0]\n",
    "arraylist=np.array(list)\n",
    "print(arraylist[arraylist > 0])"
   ]
  },
  {
   "cell_type": "markdown",
   "id": "1c548419",
   "metadata": {},
   "source": [
    "#### Ejercicio 4 - Crea un array 3x3 con valores aleatorios entre 0 y 1."
   ]
  },
  {
   "cell_type": "code",
   "execution_count": 4,
   "id": "e1d4f19f",
   "metadata": {},
   "outputs": [
    {
     "name": "stdout",
     "output_type": "stream",
     "text": [
      "[[0.32196889 0.08086742 0.15374365]\n",
      " [0.38040309 0.16375116 0.99714734]\n",
      " [0.5487535  0.64112693 0.39648978]]\n",
      "[[0 0 0]\n",
      " [0 0 0]\n",
      " [0 0 0]]\n"
     ]
    }
   ],
   "source": [
    "array_3x3 = np.random.rand(3, 3)\n",
    "\n",
    "print(array_3x3)\n",
    "\n",
    "array_3x3x = np.random.randint(0,1,(3,3)) #random.randit(valor inicial,valor final mas 1 (filas,columnas))\n",
    "\n",
    "print(array_3x3x)"
   ]
  },
  {
   "cell_type": "markdown",
   "id": "aee82811",
   "metadata": {},
   "source": [
    "#### Ejercicio 5 - Crea un array de 10 números aleatorios y encuentra el valor máximo y mínimo."
   ]
  },
  {
   "cell_type": "code",
   "execution_count": 5,
   "id": "81fea76e",
   "metadata": {},
   "outputs": [
    {
     "name": "stdout",
     "output_type": "stream",
     "text": [
      "[[0.45860382 0.13891869 0.51624591 0.99501658 0.93215119 0.76483532\n",
      "  0.97903291 0.74065208 0.68444572 0.01023894]]\n",
      "[[57 68 58  4 25 25 54 95 29  2]]\n",
      "95 2\n"
     ]
    }
   ],
   "source": [
    "array_ran10 = np.random.rand(1, 10)\n",
    "print(array_ran10)\n",
    "array_ran10x = np.random.randint(0,100,(1,10)) #random.randit(valor inicial,valor final mas 1 (filas,columnas))//si solo quieres una linea pones el numero de valores\n",
    "\n",
    "print(array_ran10x)\n",
    "\n",
    "print(np.max(array_ran10x),np.min(array_ran10x))\n"
   ]
  },
  {
   "cell_type": "markdown",
   "id": "6559375b",
   "metadata": {},
   "source": [
    "#### Ejercicio 6 - Crea un array de una dimensión e inviértelo. "
   ]
  },
  {
   "cell_type": "code",
   "execution_count": 6,
   "id": "31385db0",
   "metadata": {},
   "outputs": [
    {
     "name": "stdout",
     "output_type": "stream",
     "text": [
      "[90 41  9 11 36 12 16  4 38 92]\n",
      "[92 38  4 16 12 36 11  9 41 90]\n"
     ]
    }
   ],
   "source": [
    "array_ran = np.random.randint(0,100,10)\n",
    "\n",
    "array_raninv = array_ran[::-1]\n",
    "print(array_ran)\n",
    "print(array_raninv)"
   ]
  },
  {
   "cell_type": "markdown",
   "id": "4457f046",
   "metadata": {},
   "source": [
    "\n",
    "#### Ejercicio 6 - Genera un array tridimensional de dimensiones (2, 3, 4) con valores enteros del 1 al 24.\n",
    "\n",
    "- Selecciona el primer `15` del array.\n",
    "\n",
    "- Selecciona todos los elementos del primer array. \n",
    "\n",
    "- Selecciona la última fila del último array\n"
   ]
  },
  {
   "cell_type": "code",
   "execution_count": 7,
   "id": "3cab04c9",
   "metadata": {},
   "outputs": [
    {
     "name": "stdout",
     "output_type": "stream",
     "text": [
      "[[[ 1  2  3  4]\n",
      "  [ 5  6  7  8]\n",
      "  [ 9 10 11 12]]\n",
      "\n",
      " [[13 14 15 16]\n",
      "  [17 18 19 20]\n",
      "  [21 22 23 24]]]\n",
      "-----------------\n",
      "[15]\n",
      "-----------------\n",
      "[[ 1  2  3  4]\n",
      " [ 5  6  7  8]\n",
      " [ 9 10 11 12]]\n",
      "-----------------\n",
      "[21 22 23 24]\n"
     ]
    }
   ],
   "source": [
    "arraytridi=np.arange(1,25).reshape(2,3,4)\n",
    "print(arraytridi)\n",
    "print(\"-----------------\")\n",
    "num15=arraytridi[arraytridi==15]\n",
    "print(num15)\n",
    "print(\"-----------------\")\n",
    "primerarray=arraytridi[0]\n",
    "print(primerarray)\n",
    "print(\"-----------------\")\n",
    "ultimafila=arraytridi[1][2]\n",
    "print(ultimafila)"
   ]
  },
  {
   "cell_type": "markdown",
   "id": "681b7e4e",
   "metadata": {},
   "source": [
    "\n",
    "#### Ejercicio 7 - Genera un array tridimensional de dimensiones (3, 2, 5) con valores enteros del 1 al 30.\n",
    "\n",
    "- Selecciona el subarray que contiene los dos primeros elementos de cada fila del primer array.\n",
    "\n",
    "- Selecciona el subarray que contiene todas las filas de los dos últimos arrays.\n"
   ]
  },
  {
   "cell_type": "code",
   "execution_count": 8,
   "id": "b008a9aa",
   "metadata": {},
   "outputs": [
    {
     "name": "stdout",
     "output_type": "stream",
     "text": [
      "[[[ 1  2  3  4  5]\n",
      "  [ 6  7  8  9 10]]\n",
      "\n",
      " [[11 12 13 14 15]\n",
      "  [16 17 18 19 20]]\n",
      "\n",
      " [[21 22 23 24 25]\n",
      "  [26 27 28 29 30]]]\n",
      "-----------------\n",
      "[[1 2]\n",
      " [6 7]]\n",
      "-----------------\n",
      "[[21 22 23 24 25]\n",
      " [26 27 28 29 30]]\n",
      "-----------------\n"
     ]
    }
   ],
   "source": [
    "arraytridi2=np.arange(1,31).reshape(3,2,5)\n",
    "print(arraytridi2)\n",
    "print(\"-----------------\")\n",
    "\n",
    "subarray1=arraytridi2[0,:2,:2]\n",
    "print(subarray1)\n",
    "print(\"-----------------\")\n",
    "\n",
    "subarray2=arraytridi2[2,:2]\n",
    "print(subarray2)\n",
    "print(\"-----------------\")"
   ]
  },
  {
   "cell_type": "markdown",
   "id": "4fabd9d0",
   "metadata": {},
   "source": [
    "#### Ejercicio 8 - Genera un array tridimensional de dimensiones (4, 3, 2) con valores enteros del 1 al 24.\n",
    "\n",
    "- Cambia todos los elementos de la segunda fila del segundo array por `0`.\n",
    "\n",
    "- Cambia todos los valores del último array a `-1`.\n"
   ]
  },
  {
   "cell_type": "code",
   "execution_count": 9,
   "id": "0ef45b69",
   "metadata": {},
   "outputs": [
    {
     "name": "stdout",
     "output_type": "stream",
     "text": [
      "[[[ 1  2]\n",
      "  [ 3  4]\n",
      "  [ 5  6]]\n",
      "\n",
      " [[ 7  8]\n",
      "  [ 9 10]\n",
      "  [11 12]]\n",
      "\n",
      " [[13 14]\n",
      "  [15 16]\n",
      "  [17 18]]\n",
      "\n",
      " [[19 20]\n",
      "  [21 22]\n",
      "  [23 24]]]\n",
      "-----------------\n",
      "[[[ 1  2]\n",
      "  [ 3  4]\n",
      "  [ 5  6]]\n",
      "\n",
      " [[ 7  8]\n",
      "  [ 0  0]\n",
      "  [11 12]]\n",
      "\n",
      " [[13 14]\n",
      "  [15 16]\n",
      "  [17 18]]\n",
      "\n",
      " [[19 20]\n",
      "  [21 22]\n",
      "  [23 24]]]\n",
      "-----------------\n",
      "[[[ 1  2]\n",
      "  [ 3  4]\n",
      "  [ 5  6]]\n",
      "\n",
      " [[ 7  8]\n",
      "  [ 0  0]\n",
      "  [11 12]]\n",
      "\n",
      " [[13 14]\n",
      "  [15 16]\n",
      "  [17 18]]\n",
      "\n",
      " [[-1 -1]\n",
      "  [-1 -1]\n",
      "  [-1 -1]]]\n",
      "-----------------\n"
     ]
    }
   ],
   "source": [
    "arraytridi3=np.arange(1,25).reshape(4,3,2)\n",
    "print(arraytridi3)\n",
    "print(\"-----------------\")\n",
    "arraytridi3[1,1,:]=0\n",
    "print(arraytridi3)\n",
    "print(\"-----------------\")\n",
    "arraytridi3[3,:,:]=-1\n",
    "print(arraytridi3)\n",
    "print(\"-----------------\")"
   ]
  },
  {
   "cell_type": "markdown",
   "id": "c60bc3bb",
   "metadata": {},
   "source": [
    "\n",
    "#### Ejercicio 9 - Genera un array tridimensional de dimensiones (2, 4, 3) con valores enteros del -10 al 13.\n",
    "\n",
    "- Selecciona todos los elementos mayores a `5`.\n",
    "\n",
    "- Reemplaza todos los elementos negativos por `0`.\n"
   ]
  },
  {
   "cell_type": "code",
   "execution_count": 10,
   "id": "28bf9232",
   "metadata": {},
   "outputs": [
    {
     "name": "stdout",
     "output_type": "stream",
     "text": [
      "[[[-10  -9  -8]\n",
      "  [ -7  -6  -5]\n",
      "  [ -4  -3  -2]\n",
      "  [ -1   0   1]]\n",
      "\n",
      " [[  2   3   4]\n",
      "  [  5   6   7]\n",
      "  [  8   9  10]\n",
      "  [ 11  12  13]]]\n",
      "-----------------\n",
      "[ 5  6  7  8  9 10 11 12 13]\n",
      "-----------------\n",
      "[[[ 0  0  0]\n",
      "  [ 0  0  0]\n",
      "  [ 0  0  0]\n",
      "  [ 0  0  1]]\n",
      "\n",
      " [[ 2  3  4]\n",
      "  [ 5  6  7]\n",
      "  [ 8  9 10]\n",
      "  [11 12 13]]]\n"
     ]
    }
   ],
   "source": [
    "arraytridi4=np.arange(-10,14).reshape(2,4,3)\n",
    "print(arraytridi4)\n",
    "print(\"-----------------\")\n",
    "mayor5=arraytridi4[arraytridi4>=5]\n",
    "print(mayor5)\n",
    "print(\"-----------------\")\n",
    "arraytridi4[arraytridi4 <= 0] = 0\n",
    "print(arraytridi4)\n"
   ]
  },
  {
   "cell_type": "markdown",
   "id": "ab38a3be",
   "metadata": {},
   "source": [
    "#### Ejercicio 10 - Genera un array tridimensional de dimensiones (3, 3, 3) con valores enteros del 1 al 27.\n",
    "\n",
    "- Selecciona el subarray del segundo array que contenga solo las dos primeras columnas.\n",
    "\n",
    "- Selecciona todos los elementos del tercer array que sean mayores que `20`.\n"
   ]
  },
  {
   "cell_type": "code",
   "execution_count": 11,
   "id": "78c979cf",
   "metadata": {},
   "outputs": [
    {
     "name": "stdout",
     "output_type": "stream",
     "text": [
      "[[[ 1  2  3]\n",
      "  [ 4  5  6]\n",
      "  [ 7  8  9]]\n",
      "\n",
      " [[10 11 12]\n",
      "  [13 14 15]\n",
      "  [16 17 18]]\n",
      "\n",
      " [[19 20 21]\n",
      "  [22 23 24]\n",
      "  [25 26 27]]]\n",
      "-----------------\n",
      "[[10 11]\n",
      " [13 14]\n",
      " [16 17]]\n",
      "-----------------\n",
      "[21 22 23 24 25 26 27]\n",
      "-----------------\n"
     ]
    }
   ],
   "source": [
    "arraytridi5=np.arange(1,28).reshape(3,3,3)\n",
    "print(arraytridi5)\n",
    "print(\"-----------------\")\n",
    "arayyy=arraytridi5[1,:,:2]\n",
    "print(arayyy)\n",
    "print(\"-----------------\")\n",
    "array3=arraytridi5[2,:,:]\n",
    "print(array3[array3>20])\n",
    "print(\"-----------------\")\n"
   ]
  },
  {
   "cell_type": "markdown",
   "id": "f1a00156",
   "metadata": {},
   "source": [
    "#### Ejercicio 11 - Crea un array de 10 números aleatorios y reemplaza los valores máximos y mínimos por 0."
   ]
  },
  {
   "cell_type": "code",
   "execution_count": 12,
   "id": "990fa526",
   "metadata": {},
   "outputs": [
    {
     "name": "stdout",
     "output_type": "stream",
     "text": [
      "[91  7 12 91 28 35 72 72 81 96]\n",
      "-----------------\n",
      "Array modificado: [91  0 12 91 28 35 72 72 81  0]\n"
     ]
    }
   ],
   "source": [
    "array_ran2 = np.random.randint(0,100,10)\n",
    "print(array_ran2)\n",
    "print(\"-----------------\")\n",
    "\n",
    "max_index = np.argmax(array_ran2)\n",
    "min_index = np.argmin(array_ran2)\n",
    "\n",
    "array_ran2[max_index] = 0\n",
    "array_ran2[min_index] = 0\n",
    "\n",
    "print(\"Array modificado:\", array_ran2)\n",
    "\n"
   ]
  },
  {
   "cell_type": "markdown",
   "id": "781fafd0",
   "metadata": {},
   "source": [
    "#### Ejercicio 12 - Genera un array de 15 números aleatorios enteros entre 1 y 100 y reordénalo en orden ascendente."
   ]
  },
  {
   "cell_type": "code",
   "execution_count": 13,
   "id": "caa4fd47",
   "metadata": {},
   "outputs": [
    {
     "name": "stdout",
     "output_type": "stream",
     "text": [
      "[19  7 48 13 62 17 12 71 57  0 19 80  9 66 63]\n",
      "-----------------\n",
      "[ 0  7  9 12 13 17 19 19 48 57 62 63 66 71 80]\n"
     ]
    }
   ],
   "source": [
    "array_ran3 = np.random.randint(0,101,15)\n",
    "print(array_ran3)\n",
    "print(\"-----------------\")\n",
    "\n",
    "array_ran3ord=np.sort(array_ran3)\n",
    "print(array_ran3ord)"
   ]
  },
  {
   "cell_type": "markdown",
   "id": "45f10c3e",
   "metadata": {},
   "source": [
    "#### Ejercicio 11 - Calcula la suma de los elementos a lo largo de las filas y columnas en una matriz 4x4."
   ]
  },
  {
   "cell_type": "code",
   "execution_count": 14,
   "id": "90220788",
   "metadata": {},
   "outputs": [
    {
     "name": "stdout",
     "output_type": "stream",
     "text": [
      "[[70 86  7 22]\n",
      " [55 48 17 58]\n",
      " [45 44 19 81]\n",
      " [88 69 26 76]]\n",
      "-----------------\n",
      "[185 178 189 259]\n"
     ]
    }
   ],
   "source": [
    "array_ran4 = np.random.randint(0,101,(4,4))\n",
    "print(array_ran4)\n",
    "print(\"-----------------\")\n",
    "\n",
    "suma_fila = np.sum(array_ran4, axis = 1)\n",
    "print(suma_fila)"
   ]
  },
  {
   "cell_type": "markdown",
   "id": "69b9751a",
   "metadata": {},
   "source": [
    "#### Ejercicio 12 - Crea una matriz de 5x5 con valores en el borde igual a 1 y en el interior igual a 0."
   ]
  },
  {
   "cell_type": "code",
   "execution_count": 15,
   "id": "eca81323",
   "metadata": {},
   "outputs": [
    {
     "name": "stdout",
     "output_type": "stream",
     "text": [
      "[[74  2 30 39 49]\n",
      " [86 56 86 91 87]\n",
      " [22 26 23 60 31]\n",
      " [97 22 85 32 54]\n",
      " [45 19 74 48 80]]\n",
      "-----------------\n",
      "[[1 0 0 0 1]\n",
      " [1 0 0 0 1]\n",
      " [1 0 0 0 1]\n",
      " [1 0 0 0 1]\n",
      " [1 0 0 0 1]]\n"
     ]
    }
   ],
   "source": [
    "array_ran5 = np.random.randint(0,101,(5,5))\n",
    "print(array_ran5)\n",
    "print(\"-----------------\")\n",
    "array_ran5[:,0]=1\n",
    "array_ran5[:,4]=1\n",
    "array_ran5[:,1:4]=0\n",
    "print(array_ran5)"
   ]
  },
  {
   "cell_type": "markdown",
   "id": "1ea8068d",
   "metadata": {},
   "source": [
    "#### Ejercicio 13 - Calcula la media y la desviación estándar de un array de 10 números aleatorios."
   ]
  },
  {
   "cell_type": "code",
   "execution_count": 17,
   "id": "05dd579d",
   "metadata": {},
   "outputs": [
    {
     "name": "stdout",
     "output_type": "stream",
     "text": [
      "[18 73 19 35  6 77 78 16  2 64]\n",
      "-----------------\n",
      "Array aleatorio: [18 73 19 35  6 77 78 16  2 64]\n",
      "Media: 38.8\n",
      "Desviación estándar: 29.30801938036755\n"
     ]
    }
   ],
   "source": [
    "array_ran6 = np.random.randint(0,101,10)\n",
    "print(array_ran6)\n",
    "print(\"-----------------\")\n",
    "\n",
    "media = np.mean(array_ran6)\n",
    "desviacion_estandar = np.std(array_ran6)\n",
    "\n",
    "print(\"Array aleatorio:\", array_ran6)\n",
    "print(\"Media:\", media)\n",
    "print(\"Desviación estándar:\", desviacion_estandar)\n"
   ]
  },
  {
   "cell_type": "markdown",
   "id": "6add6669",
   "metadata": {},
   "source": [
    "#### Ejercicio 14 - Genera un array tridimensional de dimensiones (2, 3, 4) con valores enteros del 1 al 24.\n",
    "\n",
    "- Transpón el array para intercambiar los ejes de la forma (2, 3, 4) a (4, 3, 2).\n",
    "\n",
    "- Observa cómo cambian las posiciones de los elementos y sus índices después de la transposición. Explica en una celda de markdown que es lo que ha pasado. \n"
   ]
  },
  {
   "cell_type": "code",
   "execution_count": 20,
   "id": "ae98aca5",
   "metadata": {},
   "outputs": [
    {
     "name": "stdout",
     "output_type": "stream",
     "text": [
      "[[[ 1  2  3  4]\n",
      "  [ 5  6  7  8]\n",
      "  [ 9 10 11 12]]\n",
      "\n",
      " [[13 14 15 16]\n",
      "  [17 18 19 20]\n",
      "  [21 22 23 24]]]\n",
      "-----------------\n",
      "[[[ 1 13]\n",
      "  [ 5 17]\n",
      "  [ 9 21]]\n",
      "\n",
      " [[ 2 14]\n",
      "  [ 6 18]\n",
      "  [10 22]]\n",
      "\n",
      " [[ 3 15]\n",
      "  [ 7 19]\n",
      "  [11 23]]\n",
      "\n",
      " [[ 4 16]\n",
      "  [ 8 20]\n",
      "  [12 24]]]\n"
     ]
    }
   ],
   "source": [
    "arraytridi6 = np.arange(1, 25).reshape(2, 3, 4)\n",
    "print(arraytridi6)\n",
    "print(\"-----------------\")\n",
    "arraytridi6_transpuesto = np.transpose(arraytridi6, (2, 1, 0))\n",
    "\n",
    "print(arraytridi6_transpuesto)\n"
   ]
  },
  {
   "cell_type": "markdown",
   "id": "c20c6e3a",
   "metadata": {},
   "source": [
    "- Se junta cada valor con su homonimo de la otra matriz, formando matrices de 3x2 con los valores de cada columna creando 4 matrices correspondientes a las 4 columnas"
   ]
  },
  {
   "cell_type": "markdown",
   "id": "1e32b5e6",
   "metadata": {},
   "source": [
    "#### Ejercicio 15 - Genera un array tridimensional de dimensiones (3, 4, 2) con valores enteros del 1 al 24.\n",
    "\n",
    "- Transpón el array para intercambiar el primer y segundo eje, de manera que la nueva forma del array sea (4, 3, 2).\n"
   ]
  },
  {
   "cell_type": "code",
   "execution_count": 22,
   "id": "0146fdd6",
   "metadata": {},
   "outputs": [
    {
     "name": "stdout",
     "output_type": "stream",
     "text": [
      "[[[ 1  2]\n",
      "  [ 3  4]\n",
      "  [ 5  6]\n",
      "  [ 7  8]]\n",
      "\n",
      " [[ 9 10]\n",
      "  [11 12]\n",
      "  [13 14]\n",
      "  [15 16]]\n",
      "\n",
      " [[17 18]\n",
      "  [19 20]\n",
      "  [21 22]\n",
      "  [23 24]]]\n",
      "-----------------\n",
      "[[[ 1  2]\n",
      "  [ 9 10]\n",
      "  [17 18]]\n",
      "\n",
      " [[ 3  4]\n",
      "  [11 12]\n",
      "  [19 20]]\n",
      "\n",
      " [[ 5  6]\n",
      "  [13 14]\n",
      "  [21 22]]\n",
      "\n",
      " [[ 7  8]\n",
      "  [15 16]\n",
      "  [23 24]]]\n"
     ]
    }
   ],
   "source": [
    "arraytridi7 = np.arange(1, 25).reshape(3, 4, 2)\n",
    "print(arraytridi7)\n",
    "print(\"-----------------\")\n",
    "\n",
    "arraytridi7_transpuesto = np.transpose(arraytridi7, (1, 0, 2))\n",
    "\n",
    "print(arraytridi7_transpuesto)\n"
   ]
  },
  {
   "cell_type": "markdown",
   "id": "fcf92586",
   "metadata": {},
   "source": [
    "#### Ejercicio 16 - Genera un array tridimensional de dimensiones (3, 2, 4) con valores enteros del 1 al 24.\n",
    "\n",
    "- Realiza una rotación completa de los ejes para convertir la forma original (3, 2, 4) en (4, 3, 2).\n"
   ]
  },
  {
   "cell_type": "code",
   "execution_count": 23,
   "id": "dd2c7f27",
   "metadata": {},
   "outputs": [
    {
     "name": "stdout",
     "output_type": "stream",
     "text": [
      "[[[ 1  2  3  4]\n",
      "  [ 5  6  7  8]]\n",
      "\n",
      " [[ 9 10 11 12]\n",
      "  [13 14 15 16]]\n",
      "\n",
      " [[17 18 19 20]\n",
      "  [21 22 23 24]]]\n",
      "-----------------\n",
      "[[[ 1  5]\n",
      "  [ 9 13]\n",
      "  [17 21]]\n",
      "\n",
      " [[ 2  6]\n",
      "  [10 14]\n",
      "  [18 22]]\n",
      "\n",
      " [[ 3  7]\n",
      "  [11 15]\n",
      "  [19 23]]\n",
      "\n",
      " [[ 4  8]\n",
      "  [12 16]\n",
      "  [20 24]]]\n"
     ]
    }
   ],
   "source": [
    "\n",
    "arraytridi8 = np.arange(1, 25).reshape(3, 2, 4)\n",
    "print(arraytridi8)\n",
    "print(\"-----------------\")\n",
    "arraytridi7_rotado = np.transpose(arraytridi8, (2, 0, 1))\n",
    "print(arraytridi7_rotado)\n",
    "\n"
   ]
  },
  {
   "cell_type": "markdown",
   "id": "1795e11f",
   "metadata": {},
   "source": [
    "#### Ejercicio 17 - Manipulación de Arrays en 3D\n",
    "\n",
    "- Crea un array tridimensional con dimensiones (3, 4, 5) cuyos elementos sean números enteros aleatorios entre -10 y 10.\n",
    "\n",
    "- Crea un array vacío con la misma forma y dimensiones que el array creado anteriormente. Luego, reemplaza los valores de la matriz vacía basada en los valores del primer array bajo las siguientes condiciones:\n",
    "\n",
    "   - Si el valor es igual a la mediana, se reemplaza por `\"M\"`.\n",
    "\n",
    "   - Si el valor es mayor que la mediana, se reemplaza por `\"X\"`.\n",
    "\n",
    "   - Si el valor es menor que la mediana, se reemplaza por `\"Y\"`.\n",
    "\n",
    "   - Si el valor es igual al máximo, se reemplaza por `\"MAX\"`.\n",
    "\n",
    "   - Si el valor es igual al mínimo, se reemplaza por `\"MIN\"`.\n"
   ]
  },
  {
   "cell_type": "code",
   "execution_count": 92,
   "id": "d309b397",
   "metadata": {},
   "outputs": [
    {
     "name": "stdout",
     "output_type": "stream",
     "text": [
      "[[[ -7  -1   7  -6   9]\n",
      "  [ -4   7   6  -5  -8]\n",
      "  [  3 -10  -8   6   2]\n",
      "  [  8   2  -9  -6   5]]\n",
      "\n",
      " [[ -5  -3  -9  -5   8]\n",
      "  [ -6   7  -5   4   8]\n",
      "  [ -8   1  -9  -7  -3]\n",
      "  [ 10   8  -9  -9  -8]]\n",
      "\n",
      " [[  0   0  -7  -5  -6]\n",
      "  [ -1   6   0  -9   5]\n",
      "  [  4  -9  -5   2  -9]\n",
      "  [  4   0   7   3   6]]]\n",
      "------------------------------\n",
      "[[[None None None None None]\n",
      "  [None None None None None]\n",
      "  [None None None None None]\n",
      "  [None None None None None]]\n",
      "\n",
      " [[None None None None None]\n",
      "  [None None None None None]\n",
      "  [None None None None None]\n",
      "  [None None None None None]]\n",
      "\n",
      " [[None None None None None]\n",
      "  [None None None None None]\n",
      "  [None None None None None]\n",
      "  [None None None None None]]]\n",
      "------------------------------\n",
      "-1.0\n",
      "10\n",
      "-10\n",
      "------------------------------\n",
      "[[['Y' 'M' 'X' 'Y' 'X']\n",
      "  ['Y' 'X' 'X' 'Y' 'Y']\n",
      "  ['X' 'MIN' 'Y' 'X' 'X']\n",
      "  ['X' 'X' 'Y' 'Y' 'X']]\n",
      "\n",
      " [['Y' 'Y' 'Y' 'Y' 'X']\n",
      "  ['Y' 'X' 'Y' 'X' 'X']\n",
      "  ['Y' 'X' 'Y' 'Y' 'Y']\n",
      "  ['MAX' 'X' 'Y' 'Y' 'Y']]\n",
      "\n",
      " [['X' 'X' 'Y' 'Y' 'Y']\n",
      "  ['M' 'X' 'X' 'Y' 'X']\n",
      "  ['X' 'Y' 'Y' 'X' 'Y']\n",
      "  ['X' 'X' 'X' 'X' 'X']]]\n"
     ]
    }
   ],
   "source": [
    "arraytridi9 = np.random.randint(-10, 11, size=(3, 4, 5))\n",
    "print(arraytridi9)\n",
    "print(\"------------------------------\")\n",
    "\n",
    "array_vacio = np.empty(arraytridi9.shape, dtype=object)\n",
    "print(array_vacio)\n",
    "print(\"------------------------------\")\n",
    "\n",
    "mediana = np.median(arraytridi9)\n",
    "print(mediana)\n",
    "maximo = np.max(arraytridi9)\n",
    "print(maximo)\n",
    "minimo = np.min(arraytridi9)\n",
    "print(minimo)\n",
    "print(\"------------------------------\")\n",
    "\n",
    "for i in range(arraytridi9.shape[0]):\n",
    "    for j in range(arraytridi9.shape[1]):\n",
    "        for k in range(arraytridi9.shape[2]):\n",
    "            valor = arraytridi9[i, j, k]\n",
    "            if valor == mediana:\n",
    "                array_vacio[i, j, k] = \"M\"\n",
    "            elif valor == maximo:\n",
    "                array_vacio[i, j, k] = \"MAX\"\n",
    "            elif valor == minimo:\n",
    "                array_vacio[i, j, k] = \"MIN\"\n",
    "            elif valor > mediana:\n",
    "                array_vacio[i, j, k] = \"X\"\n",
    "            else:\n",
    "                array_vacio[i, j, k] = \"Y\"\n",
    "\n",
    "print(array_vacio)\n"
   ]
  },
  {
   "cell_type": "markdown",
   "id": "83794704",
   "metadata": {},
   "source": [
    "#### Ejercicio 18 - Verificación de Filas y Columnas Iguales\n",
    "\n",
    "Crea un array bidimensional de dimensiones 4x4, escribe un código para determinar si alguna fila es exactamente igual a alguna columna.\n",
    "\n",
    "**Reglas:**\n",
    "\n",
    "- No puedes usar funciones predefinidas de NumPy para comparar filas y columnas (`np.array_equal`, etc.).\n",
    "\n",
    "- Debes resolverlo con estructuras básicas de Python (bucles, condicionales, etc.).\n",
    "\n",
    "- Debes revisar si hay al menos una fila que coincida exactamente con alguna columna.\n",
    "\n",
    "**Pistas**:\n",
    "\n",
    "- Puedes recorrer cada fila y cada columna de la matriz usando bucles.\n",
    "\n",
    "- Para comparar una fila con una columna, puedes hacerlo elemento por elemento."
   ]
  },
  {
   "cell_type": "code",
   "execution_count": 91,
   "id": "afd51c60",
   "metadata": {},
   "outputs": [
    {
     "name": "stdout",
     "output_type": "stream",
     "text": [
      "[[96 79 99 12]\n",
      " [77 22  9 55]\n",
      " [18 45  4 30]\n",
      " [ 8 86 11 25]]\n",
      "Existe al menos una fila que es igual a una columna\n",
      "No hay ninguna fila que coincida con una columna.\n"
     ]
    }
   ],
   "source": [
    "array4x4 = np.random.randint(0,101,(4,4))\n",
    "\n",
    "print(array4x4)\n",
    "\n",
    "matriz = [\n",
    "    [1, 2, 3, 4],\n",
    "    [2, 6, 7, 8],\n",
    "    [3, 10, 11, 12],\n",
    "    [4, 14, 15, 16]]\n",
    "\n",
    "def comparar_fila_columna(array4x4):\n",
    "    for i in range(len(array4x4)):\n",
    "        for j in range(len(array4x4)):\n",
    "            iguales = True\n",
    "            for k in range(len(array4x4)):\n",
    "                if array4x4[i][k] != array4x4[k][j]: \n",
    "                    iguales = False\n",
    "                    break  \n",
    "            if iguales:\n",
    "                return \"Existe al menos una fila que es igual a una columna\"\n",
    "    return \"No hay ninguna fila que coincida con una columna.\"\n",
    "print(comparar_fila_columna(matriz))\n",
    "print(comparar_fila_columna(array4x4))\n",
    "\n",
    "\n"
   ]
  }
 ],
 "metadata": {
  "kernelspec": {
   "display_name": "Python 3",
   "language": "python",
   "name": "python3"
  },
  "language_info": {
   "codemirror_mode": {
    "name": "ipython",
    "version": 3
   },
   "file_extension": ".py",
   "mimetype": "text/x-python",
   "name": "python",
   "nbconvert_exporter": "python",
   "pygments_lexer": "ipython3",
   "version": "3.12.7"
  }
 },
 "nbformat": 4,
 "nbformat_minor": 5
}
